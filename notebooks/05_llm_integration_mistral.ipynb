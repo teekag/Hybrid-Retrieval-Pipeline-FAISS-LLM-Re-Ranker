{
 "cells": [
  {
   "cell_type": "markdown",
   "metadata": {},
   "source": [
    "# 🤖 LLM Integration – End-to-End RAG Pipeline\n",
    "\n",
    "This notebook completes the Retrieval-Augmented Generation (RAG) loop by:\n",
    "\n",
    "- Formatting top retrieved documents into a prompt\n",
    "- Sending that prompt to a language model (Mistral AI)\n",
    "- Comparing generated answers with/without context"
   ]
  },
  {
   "cell_type": "code",
   "execution_count": 1,
   "metadata": {},
   "source": [
    "import os\n",
    "import sys\n",
    "import json\n",
    "from pathlib import Path\n",
    "\n",
    "# Add the src directory to the path\n",
    "sys.path.append(os.path.abspath('..'))\n",
    "\n",
    "from src.rag_pipeline import RAGPipeline\n",
    "from src.mistral_generator import MistralGenerator\n",
    "\n",
    "# Set paths\n",
    "DATA_DIR = Path(\"../data\")\n",
    "PROCESSED_DIR = DATA_DIR / \"processed\"\n",
    "REAL_DOCS_DIR = DATA_DIR / \"real_docs\"\n",
    "\n",
    "# Set Mistral API key - replace with your own or use environment variable\n",
    "# os.environ[\"MISTRAL_API_KEY\"] = \"your-api-key-here\"\n",
    "\n",
    "# Check if API key is set\n",
    "if not os.environ.get(\"MISTRAL_API_KEY\"):\n",
    "    print(\"⚠️ Warning: MISTRAL_API_KEY environment variable not set.\")\n",
    "    print(\"Please set your API key using os.environ['MISTRAL_API_KEY'] = 'your-key-here'\")\n",
    "    print(\"or export it in your environment before running this notebook.\")"
   ]
  },
  {
   "cell_type": "markdown",
   "metadata": {},
   "source": [
    "## 1. Load Documents and Initialize Pipeline"
   ]
  },
  {
   "cell_type": "code",
   "execution_count": 2,
   "metadata": {},
   "source": [
    "# Load sample docs\n",
    "documents = []\n",
    "for filename in [\"hrv_basics.txt\", \"sleep_optimization.txt\", \"training_recovery.txt\"]:\n",
    "    try:\n",
    "        with open(REAL_DOCS_DIR / filename, 'r') as f:\n",
    "            doc_content = f.read()\n",
    "            doc_id = filename.split('.')[0]\n",
    "            documents.append({\"id\": doc_id, \"content\": doc_content, \"metadata\": {\"source\": filename}})\n",
    "    except FileNotFoundError:\n",
    "        print(f\"Warning: File {filename} not found\")\n",
    "\n",
    "print(f\"Loaded {len(documents)} documents\")\n",
    "\n",
    "# Build pipeline\n",
    "pipeline = RAGPipeline()\n",
    "pipeline.load_documents_from_list(documents)\n",
    "\n",
    "# Define a query\n",
    "query = \"Based on my HRV, should I reduce tomorrow's workout?\""
   ]
  },
  {
   "cell_type": "markdown",
   "metadata": {},
   "source": [
    "## 2. Retrieve Relevant Documents"
   ]
  },
  {
   "cell_type": "code",
   "execution_count": 3,
   "metadata": {},
   "source": [
    "# Retrieve top docs\n",
    "retrieval_results = pipeline.query(query, top_k=2, rerank=True)\n",
    "\n",
    "# Format documents for LLM\n",
    "retrieved_docs = []\n",
    "for doc in retrieval_results['results']:\n",
    "    retrieved_docs.append({\n",
    "        \"id\": doc[\"id\"],\n",
    "        \"content\": doc[\"content\"],\n",
    "        \"metadata\": {\n",
    "            \"source\": doc.get(\"metadata\", {}).get(\"source\", \"Unknown\"),\n",
    "            \"score\": doc[\"score\"]\n",
    "        }\n",
    "    })\n",
    "\n",
    "# Display retrieved documents\n",
    "print(f\"Retrieved {len(retrieved_docs)} documents for query: '{query}'\\n\")\n",
    "for i, doc in enumerate(retrieved_docs):\n",
    "    print(f\"Document {i+1}: {doc['id']} (Score: {doc['metadata']['score']:.3f})\")\n",
    "    print(f\"Source: {doc['metadata']['source']}\")\n",
    "    print(f\"Content snippet: {doc['content'][:150]}...\\n\")"
   ]
  },
  {
   "cell_type": "markdown",
   "metadata": {},
   "source": [
    "## 3. Send to Mistral AI"
   ]
  },
  {
   "cell_type": "code",
   "execution_count": 4,
   "metadata": {},
   "source": [
    "# Initialize Mistral generator\n",
    "mistral = MistralGenerator(\n",
    "    model=\"mistral-small\",  # You can also use \"mistral-medium\" or \"mistral-large\"\n",
    "    temperature=0.3,\n",
    "    max_tokens=500\n",
    ")\n",
    "\n",
    "# Create a custom prompt template for this specific query\n",
    "recovery_coach_prompt = \"\"\"\n",
    "You are a recovery coach specializing in athletic performance.\n",
    "\n",
    "Given the following context information about HRV and training recovery:\n",
    "{context}\n",
    "\n",
    "Answer the athlete's question: \"{query}\"\n",
    "Base your answer only on the provided context. If you can't determine the answer from the context, explain what additional information would be needed.\n",
    "\"\"\"\n",
    "\n",
    "# Generate answer with context\n",
    "result = mistral.generate_answer(query, retrieved_docs, recovery_coach_prompt)\n",
    "\n",
    "print(\"💬 Generated Answer (With Context):\")\n",
    "print(result['answer'])"
   ]
  },
  {
   "cell_type": "markdown",
   "metadata": {},
   "source": [
    "## 4. Without Context Comparison"
   ]
  },
  {
   "cell_type": "code",
   "execution_count": 5,
   "metadata": {},
   "source": [
    "# Generate answer without context\n",
    "no_context_query = \"Based on my HRV, should I reduce tomorrow's workout?\"\n",
    "\n",
    "# We'll use the same API but without providing any context documents\n",
    "no_context_prompt = \"You are a recovery coach. \" + no_context_query\n",
    "\n",
    "# Create a simple payload for the API request\n",
    "import requests\n",
    "import os\n",
    "\n",
    "headers = {\n",
    "    \"Authorization\": f\"Bearer {os.environ.get('MISTRAL_API_KEY')}\",\n",
    "    \"Content-Type\": \"application/json\"\n",
    "}\n",
    "\n",
    "payload = {\n",
    "    \"model\": \"mistral-small\",\n",
    "    \"messages\": [\n",
    "        {\"role\": \"user\", \"content\": no_context_prompt}\n",
    "    ],\n",
    "    \"temperature\": 0.3,\n",
    "    \"max_tokens\": 500\n",
    "}\n",
    "\n",
    "response = requests.post(\"https://api.mistral.ai/v1/chat/completions\", headers=headers, json=payload)\n",
    "response_data = response.json()\n",
    "\n",
    "no_context_answer = response_data[\"choices\"][0][\"message\"][\"content\"].strip()\n",
    "\n",
    "print(\"🚫 Without RAG (No Context):\")\n",
    "print(no_context_answer)"
   ]
  },
  {
   "cell_type": "markdown",
   "metadata": {},
   "source": [
    "## 5. Compare Multiple Models (Optional)"
   ]
  },
  {
   "cell_type": "code",
   "execution_count": 6,
   "metadata": {},
   "source": [
    "# If you have both Mistral and Gemini API keys, you can compare them\n",
    "try:\n",
    "    from src.gemini_generator import GeminiGenerator\n",
    "    \n",
    "    if os.environ.get(\"GOOGLE_API_KEY\"):\n",
    "        # Initialize Gemini generator\n",
    "        gemini = GeminiGenerator(\n",
    "            model=\"gemini-pro\",\n",
    "            temperature=0.3,\n",
    "            max_tokens=500\n",
    "        )\n",
    "        \n",
    "        # Generate answer with Gemini\n",
    "        gemini_result = gemini.generate_answer(query, retrieved_docs, recovery_coach_prompt)\n",
    "        \n",
    "        print(\"\\n\\n💬 Gemini Generated Answer (With Context):\")\n",
    "        print(gemini_result['answer'])\n",
    "    else:\n",
    "        print(\"\\n\\nSkipping Gemini comparison (API key not set)\")\n",
    "except Exception as e:\n",
    "    print(f\"\\n\\nError comparing with Gemini: {str(e)}\")"
   ]
  },
  {
   "cell_type": "markdown",
   "metadata": {},
   "source": [
    "## 🧠 Insights\n",
    "\n",
    "Using retrieved context significantly improves:\n",
    "- factual grounding\n",
    "- consistency of tone\n",
    "- alignment with health coaching voice\n",
    "\n",
    "Next steps:\n",
    "- Test with other open-source models via HuggingFace\n",
    "- Add prompt template evaluation\n",
    "- Try few-shot or RAG-as-tool approaches"
   ]
  }
 ],
 "metadata": {
  "kernelspec": {
   "display_name": "Python 3",
   "language": "python",
   "name": "python3"
  },
  "language_info": {
   "codemirror_mode": {
    "name": "ipython",
    "version": 3
   },
   "file_extension": ".py",
   "mimetype": "text/x-python",
   "name": "python",
   "nbconvert_exporter": "python",
   "pygments_lexer": "ipython3",
   "version": "3.8.10"
  }
 },
 "nbformat": 4,
 "nbformat_minor": 4
}
